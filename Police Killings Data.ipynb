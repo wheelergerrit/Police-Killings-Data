{
 "cells": [
  {
   "cell_type": "code",
   "execution_count": 13,
   "metadata": {
    "collapsed": false
   },
   "outputs": [
    {
     "data": {
      "text/html": [
       "<div>\n",
       "<table border=\"1\" class=\"dataframe\">\n",
       "  <thead>\n",
       "    <tr style=\"text-align: right;\">\n",
       "      <th></th>\n",
       "      <th>name</th>\n",
       "      <th>age</th>\n",
       "      <th>gender</th>\n",
       "      <th>raceethnicity</th>\n",
       "      <th>month</th>\n",
       "      <th>day</th>\n",
       "      <th>year</th>\n",
       "      <th>streetaddress</th>\n",
       "      <th>city</th>\n",
       "      <th>state</th>\n",
       "      <th>...</th>\n",
       "      <th>share_hispanic</th>\n",
       "      <th>p_income</th>\n",
       "      <th>h_income</th>\n",
       "      <th>county_income</th>\n",
       "      <th>comp_income</th>\n",
       "      <th>county_bucket</th>\n",
       "      <th>nat_bucket</th>\n",
       "      <th>pov</th>\n",
       "      <th>urate</th>\n",
       "      <th>college</th>\n",
       "    </tr>\n",
       "  </thead>\n",
       "  <tbody>\n",
       "    <tr>\n",
       "      <th>0</th>\n",
       "      <td>A'donte Washington</td>\n",
       "      <td>16</td>\n",
       "      <td>Male</td>\n",
       "      <td>Black</td>\n",
       "      <td>February</td>\n",
       "      <td>23</td>\n",
       "      <td>2015</td>\n",
       "      <td>Clearview Ln</td>\n",
       "      <td>Millbrook</td>\n",
       "      <td>AL</td>\n",
       "      <td>...</td>\n",
       "      <td>5.6</td>\n",
       "      <td>28375</td>\n",
       "      <td>51367.0</td>\n",
       "      <td>54766</td>\n",
       "      <td>0.937936</td>\n",
       "      <td>3.0</td>\n",
       "      <td>3.0</td>\n",
       "      <td>14.1</td>\n",
       "      <td>0.097686</td>\n",
       "      <td>0.168510</td>\n",
       "    </tr>\n",
       "    <tr>\n",
       "      <th>1</th>\n",
       "      <td>Aaron Rutledge</td>\n",
       "      <td>27</td>\n",
       "      <td>Male</td>\n",
       "      <td>White</td>\n",
       "      <td>April</td>\n",
       "      <td>2</td>\n",
       "      <td>2015</td>\n",
       "      <td>300 block Iris Park Dr</td>\n",
       "      <td>Pineville</td>\n",
       "      <td>LA</td>\n",
       "      <td>...</td>\n",
       "      <td>0.5</td>\n",
       "      <td>14678</td>\n",
       "      <td>27972.0</td>\n",
       "      <td>40930</td>\n",
       "      <td>0.683411</td>\n",
       "      <td>2.0</td>\n",
       "      <td>1.0</td>\n",
       "      <td>28.8</td>\n",
       "      <td>0.065724</td>\n",
       "      <td>0.111402</td>\n",
       "    </tr>\n",
       "    <tr>\n",
       "      <th>2</th>\n",
       "      <td>Aaron Siler</td>\n",
       "      <td>26</td>\n",
       "      <td>Male</td>\n",
       "      <td>White</td>\n",
       "      <td>March</td>\n",
       "      <td>14</td>\n",
       "      <td>2015</td>\n",
       "      <td>22nd Ave and 56th St</td>\n",
       "      <td>Kenosha</td>\n",
       "      <td>WI</td>\n",
       "      <td>...</td>\n",
       "      <td>16.8</td>\n",
       "      <td>25286</td>\n",
       "      <td>45365.0</td>\n",
       "      <td>54930</td>\n",
       "      <td>0.825869</td>\n",
       "      <td>2.0</td>\n",
       "      <td>3.0</td>\n",
       "      <td>14.6</td>\n",
       "      <td>0.166293</td>\n",
       "      <td>0.147312</td>\n",
       "    </tr>\n",
       "  </tbody>\n",
       "</table>\n",
       "<p>3 rows × 34 columns</p>\n",
       "</div>"
      ],
      "text/plain": [
       "                 name age gender raceethnicity     month  day  year  \\\n",
       "0  A'donte Washington  16   Male         Black  February   23  2015   \n",
       "1      Aaron Rutledge  27   Male         White     April    2  2015   \n",
       "2         Aaron Siler  26   Male         White     March   14  2015   \n",
       "\n",
       "            streetaddress       city state    ...     share_hispanic  \\\n",
       "0            Clearview Ln  Millbrook    AL    ...                5.6   \n",
       "1  300 block Iris Park Dr  Pineville    LA    ...                0.5   \n",
       "2    22nd Ave and 56th St    Kenosha    WI    ...               16.8   \n",
       "\n",
       "   p_income  h_income  county_income  comp_income  county_bucket  nat_bucket  \\\n",
       "0     28375   51367.0          54766     0.937936            3.0         3.0   \n",
       "1     14678   27972.0          40930     0.683411            2.0         1.0   \n",
       "2     25286   45365.0          54930     0.825869            2.0         3.0   \n",
       "\n",
       "    pov     urate   college  \n",
       "0  14.1  0.097686  0.168510  \n",
       "1  28.8  0.065724  0.111402  \n",
       "2  14.6  0.166293  0.147312  \n",
       "\n",
       "[3 rows x 34 columns]"
      ]
     },
     "execution_count": 13,
     "metadata": {},
     "output_type": "execute_result"
    }
   ],
   "source": [
    "import pandas as pd\n",
    "import numpy as np\n",
    "import matplotlib.pyplot as plt\n",
    "%matplotlib inline\n",
    "\n",
    "#Remember when using a url to read in a df, use the raw data. Must also change the encoding\n",
    "#This dataset was taken from FiveThirtyEight's github repo\n",
    "police_killings = pd.read_csv('https://raw.githubusercontent.com/fivethirtyeight/data/master/police-killings/police_killings.csv',\n",
    "                             encoding='ISO-8859-1')\n",
    "police_killings.head(3)"
   ]
  },
  {
   "cell_type": "code",
   "execution_count": 14,
   "metadata": {
    "collapsed": false
   },
   "outputs": [
    {
     "name": "stdout",
     "output_type": "stream",
     "text": [
      "(467, 34)\n",
      "Index(['name', 'age', 'gender', 'raceethnicity', 'month', 'day', 'year',\n",
      "       'streetaddress', 'city', 'state', 'latitude', 'longitude', 'state_fp',\n",
      "       'county_fp', 'tract_ce', 'geo_id', 'county_id', 'namelsad',\n",
      "       'lawenforcementagency', 'cause', 'armed', 'pop', 'share_white',\n",
      "       'share_black', 'share_hispanic', 'p_income', 'h_income',\n",
      "       'county_income', 'comp_income', 'county_bucket', 'nat_bucket', 'pov',\n",
      "       'urate', 'college'],\n",
      "      dtype='object')\n"
     ]
    }
   ],
   "source": [
    "#Taking a look at the shape of the data and the columns\n",
    "print(police_killings.shape)\n",
    "\n",
    "print(police_killings.columns)"
   ]
  },
  {
   "cell_type": "code",
   "execution_count": 32,
   "metadata": {
    "collapsed": false
   },
   "outputs": [],
   "source": [
    "#Exploring the value counts by ethnicities\n",
    "counts = police_killings['raceethnicity'].value_counts(normalize=True) #can add in a normalized paramter (normalize=True)"
   ]
  },
  {
   "cell_type": "code",
   "execution_count": 33,
   "metadata": {
    "collapsed": false
   },
   "outputs": [
    {
     "data": {
      "image/png": "[encoded data removed]",
      "text/plain": [
       "<matplotlib.figure.Figure at 0x1be04fd2668>"
      ]
     },
     "metadata": {},
     "output_type": "display_data"
    }
   ],
   "source": [
    "#Making a bar graph to show the frequency of killings by ethnicity (can also use percentages if normalized=True)\n",
    "plt.bar(range(6),counts)\n",
    "plt.xticks(range(6),counts.index,rotation='vertical')\n",
    "\n",
    "plt.show()"
   ]
  },
  {
   "cell_type": "markdown",
   "metadata": {},
   "source": [
    "From the above bar graph, we can see that a disproportionate amount of Black citizens are killed by police, almost 30%, while Black Americans only make up 18-22% of the population.\n",
    "It would be informative to use the Census df to find actual proportion of demographics and add that bar graph to the one above"
   ]
  },
  {
   "cell_type": "code",
   "execution_count": 48,
   "metadata": {
    "collapsed": false
   },
   "outputs": [
    {
     "data": {
      "text/plain": [
       "<matplotlib.axes._subplots.AxesSubplot at 0x1be06119048>"
      ]
     },
     "execution_count": 48,
     "metadata": {},
     "output_type": "execute_result"
    },
    {
     "data": {
      "image/png": "[encoded data removed]",
      "text/plain": [
       "<matplotlib.figure.Figure at 0x1be06073908>"
      ]
     },
     "metadata": {},
     "output_type": "display_data"
    }
   ],
   "source": [
    "#Create a new Pandas Series called income that contains all the values from the p_income column, except the dashes (-)\n",
    "#Convert income to an integer type using the astype() method.\n",
    "income = police_killings['p_income'][police_killings['p_income'] != '-'].astype(float)\n",
    "\n",
    "#Use the hist() method on income to generate a histogram. Change the number of bins to 20\n",
    "income.hist(bins=20)"
   ]
  },
  {
   "cell_type": "code",
   "execution_count": 49,
   "metadata": {
    "collapsed": false
   },
   "outputs": [
    {
     "data": {
      "text/plain": [
       "22348.0"
      ]
     },
     "execution_count": 49,
     "metadata": {},
     "output_type": "execute_result"
    }
   ],
   "source": [
    "#Here is the median of our income data\n",
    "income.median()"
   ]
  },
  {
   "cell_type": "markdown",
   "metadata": {},
   "source": [
    "It is obvious from the histogram that the majority, including the median, of Americans shot tend to have a household income less than $25,000 a year. There is almost no representation from the wealthy, whereas only one person was shot who made more than $80,000 a year."
   ]
  },
  {
   "cell_type": "code",
   "execution_count": 50,
   "metadata": {
    "collapsed": false
   },
   "outputs": [
    {
     "name": "stdout",
     "output_type": "stream",
     "text": [
      "6     74\n",
      "48    47\n",
      "12    29\n",
      "4     25\n",
      "40    22\n",
      "13    16\n",
      "36    13\n",
      "8     12\n",
      "34    11\n",
      "53    11\n",
      "22    11\n",
      "17    11\n",
      "39    10\n",
      "29    10\n",
      "24    10\n",
      "37    10\n",
      "26     9\n",
      "45     9\n",
      "51     9\n",
      "41     8\n",
      "18     8\n",
      "1      8\n",
      "42     7\n",
      "21     7\n",
      "20     6\n",
      "27     6\n",
      "28     6\n",
      "31     6\n",
      "47     6\n",
      "25     5\n",
      "49     5\n",
      "55     5\n",
      "35     5\n",
      "16     4\n",
      "15     4\n",
      "5      4\n",
      "32     3\n",
      "30     2\n",
      "19     2\n",
      "2      2\n",
      "54     2\n",
      "10     2\n",
      "33     1\n",
      "9      1\n",
      "11     1\n",
      "23     1\n",
      "56     1\n",
      "Name: state_fp, dtype: int64\n"
     ]
    }
   ],
   "source": [
    "#Some external data from the US Census Bureau\n",
    "state_pop = pd.read_csv('https://www.census.gov/popest/data/state/asrh/2015/files/SCPRC-EST2015-18+POP-RES.csv')"
   ]
  },
  {
   "cell_type": "code",
   "execution_count": 53,
   "metadata": {
    "collapsed": false
   },
   "outputs": [
    {
     "data": {
      "text/plain": [
       "Index(['STATE', 'shootings', 'SUMLEV', 'REGION', 'DIVISION', 'NAME',\n",
       "       'POPESTIMATE2015', 'POPEST18PLUS2015', 'PCNT_POPEST18PLUS'],\n",
       "      dtype='object')"
      ]
     },
     "execution_count": 53,
     "metadata": {},
     "output_type": "execute_result"
    }
   ],
   "source": [
    "#Use the value_counts() method on the state_fp column of police_killings. Assign the result to counts\n",
    "counts = police_killings['state_fp'].value_counts()\n",
    "\n",
    "#We are going to merge datasets on the State column\n",
    "states = pd.DataFrame({'STATE':counts.index, 'shootings':counts})\n",
    "\n",
    "states = states.merge(state_pop,on='STATE')\n",
    "states.columns"
   ]
  },
  {
   "cell_type": "code",
   "execution_count": 61,
   "metadata": {
    "collapsed": false
   },
   "outputs": [],
   "source": [
    "#Create a new column in states called pop_millions. Assign the result of dividing the POPESTIMATE2015 column \n",
    "#by 1000000 to this column. This will give you the population in terms of millions\n",
    "states['pop_millions'] = states['POPESTIMATE2015'] / 1000000\n",
    "\n",
    "#Create a new column in states called rate. Assign the result of dividing the shootings column by pop_millions to the rate \n",
    "#column. This will give you the rate of police killings per one million people in each state\n",
    "states['rate'] = states['shootings'] / states['pop_millions']"
   ]
  },
  {
   "cell_type": "code",
   "execution_count": 88,
   "metadata": {
    "collapsed": false
   },
   "outputs": [
    {
     "name": "stderr",
     "output_type": "stream",
     "text": [
      "C:\\Users\\Gerrit\\Desktop\\Anaconda\\envs\\py35\\lib\\site-packages\\ipykernel\\__main__.py:4: FutureWarning: sort(columns=....) is deprecated, use sort_values(by=.....)\n"
     ]
    },
    {
     "data": {
      "text/html": [
       "<div>\n",
       "<table border=\"1\" class=\"dataframe\">\n",
       "  <thead>\n",
       "    <tr style=\"text-align: right;\">\n",
       "      <th></th>\n",
       "      <th>STATE</th>\n",
       "      <th>shootings</th>\n",
       "      <th>SUMLEV</th>\n",
       "      <th>REGION</th>\n",
       "      <th>DIVISION</th>\n",
       "      <th>NAME</th>\n",
       "      <th>POPESTIMATE2015</th>\n",
       "      <th>POPEST18PLUS2015</th>\n",
       "      <th>PCNT_POPEST18PLUS</th>\n",
       "      <th>pop_millions</th>\n",
       "      <th>rate</th>\n",
       "    </tr>\n",
       "  </thead>\n",
       "  <tbody>\n",
       "    <tr>\n",
       "      <th>4</th>\n",
       "      <td>40</td>\n",
       "      <td>22</td>\n",
       "      <td>40</td>\n",
       "      <td>3</td>\n",
       "      <td>7</td>\n",
       "      <td>Oklahoma</td>\n",
       "      <td>3911338</td>\n",
       "      <td>2950017</td>\n",
       "      <td>75.4</td>\n",
       "      <td>3.911338</td>\n",
       "      <td>5.624674</td>\n",
       "    </tr>\n",
       "    <tr>\n",
       "      <th>3</th>\n",
       "      <td>4</td>\n",
       "      <td>25</td>\n",
       "      <td>40</td>\n",
       "      <td>4</td>\n",
       "      <td>8</td>\n",
       "      <td>Arizona</td>\n",
       "      <td>6828065</td>\n",
       "      <td>5205215</td>\n",
       "      <td>76.2</td>\n",
       "      <td>6.828065</td>\n",
       "      <td>3.661359</td>\n",
       "    </tr>\n",
       "    <tr>\n",
       "      <th>27</th>\n",
       "      <td>31</td>\n",
       "      <td>6</td>\n",
       "      <td>40</td>\n",
       "      <td>2</td>\n",
       "      <td>4</td>\n",
       "      <td>Nebraska</td>\n",
       "      <td>1896190</td>\n",
       "      <td>1425853</td>\n",
       "      <td>75.2</td>\n",
       "      <td>1.896190</td>\n",
       "      <td>3.164240</td>\n",
       "    </tr>\n",
       "    <tr>\n",
       "      <th>34</th>\n",
       "      <td>15</td>\n",
       "      <td>4</td>\n",
       "      <td>40</td>\n",
       "      <td>4</td>\n",
       "      <td>9</td>\n",
       "      <td>Hawaii</td>\n",
       "      <td>1431603</td>\n",
       "      <td>1120770</td>\n",
       "      <td>78.3</td>\n",
       "      <td>1.431603</td>\n",
       "      <td>2.794071</td>\n",
       "    </tr>\n",
       "    <tr>\n",
       "      <th>39</th>\n",
       "      <td>2</td>\n",
       "      <td>2</td>\n",
       "      <td>40</td>\n",
       "      <td>4</td>\n",
       "      <td>9</td>\n",
       "      <td>Alaska</td>\n",
       "      <td>738432</td>\n",
       "      <td>552166</td>\n",
       "      <td>74.8</td>\n",
       "      <td>0.738432</td>\n",
       "      <td>2.708442</td>\n",
       "    </tr>\n",
       "    <tr>\n",
       "      <th>33</th>\n",
       "      <td>16</td>\n",
       "      <td>4</td>\n",
       "      <td>40</td>\n",
       "      <td>4</td>\n",
       "      <td>8</td>\n",
       "      <td>Idaho</td>\n",
       "      <td>1654930</td>\n",
       "      <td>1222093</td>\n",
       "      <td>73.8</td>\n",
       "      <td>1.654930</td>\n",
       "      <td>2.417021</td>\n",
       "    </tr>\n",
       "    <tr>\n",
       "      <th>32</th>\n",
       "      <td>35</td>\n",
       "      <td>5</td>\n",
       "      <td>40</td>\n",
       "      <td>4</td>\n",
       "      <td>8</td>\n",
       "      <td>New Mexico</td>\n",
       "      <td>2085109</td>\n",
       "      <td>1588201</td>\n",
       "      <td>76.2</td>\n",
       "      <td>2.085109</td>\n",
       "      <td>2.397956</td>\n",
       "    </tr>\n",
       "    <tr>\n",
       "      <th>10</th>\n",
       "      <td>22</td>\n",
       "      <td>11</td>\n",
       "      <td>40</td>\n",
       "      <td>3</td>\n",
       "      <td>7</td>\n",
       "      <td>Louisiana</td>\n",
       "      <td>4670724</td>\n",
       "      <td>3555911</td>\n",
       "      <td>76.1</td>\n",
       "      <td>4.670724</td>\n",
       "      <td>2.355095</td>\n",
       "    </tr>\n",
       "    <tr>\n",
       "      <th>7</th>\n",
       "      <td>8</td>\n",
       "      <td>12</td>\n",
       "      <td>40</td>\n",
       "      <td>4</td>\n",
       "      <td>8</td>\n",
       "      <td>Colorado</td>\n",
       "      <td>5456574</td>\n",
       "      <td>4199509</td>\n",
       "      <td>77.0</td>\n",
       "      <td>5.456574</td>\n",
       "      <td>2.199182</td>\n",
       "    </tr>\n",
       "    <tr>\n",
       "      <th>41</th>\n",
       "      <td>10</td>\n",
       "      <td>2</td>\n",
       "      <td>40</td>\n",
       "      <td>3</td>\n",
       "      <td>5</td>\n",
       "      <td>Delaware</td>\n",
       "      <td>945934</td>\n",
       "      <td>741548</td>\n",
       "      <td>78.4</td>\n",
       "      <td>0.945934</td>\n",
       "      <td>2.114312</td>\n",
       "    </tr>\n",
       "  </tbody>\n",
       "</table>\n",
       "</div>"
      ],
      "text/plain": [
       "    STATE  shootings  SUMLEV REGION DIVISION        NAME  POPESTIMATE2015  \\\n",
       "4      40         22      40      3        7    Oklahoma          3911338   \n",
       "3       4         25      40      4        8     Arizona          6828065   \n",
       "27     31          6      40      2        4    Nebraska          1896190   \n",
       "34     15          4      40      4        9      Hawaii          1431603   \n",
       "39      2          2      40      4        9      Alaska           738432   \n",
       "33     16          4      40      4        8       Idaho          1654930   \n",
       "32     35          5      40      4        8  New Mexico          2085109   \n",
       "10     22         11      40      3        7   Louisiana          4670724   \n",
       "7       8         12      40      4        8    Colorado          5456574   \n",
       "41     10          2      40      3        5    Delaware           945934   \n",
       "\n",
       "    POPEST18PLUS2015  PCNT_POPEST18PLUS  pop_millions      rate  \n",
       "4            2950017               75.4      3.911338  5.624674  \n",
       "3            5205215               76.2      6.828065  3.661359  \n",
       "27           1425853               75.2      1.896190  3.164240  \n",
       "34           1120770               78.3      1.431603  2.794071  \n",
       "39            552166               74.8      0.738432  2.708442  \n",
       "33           1222093               73.8      1.654930  2.417021  \n",
       "32           1588201               76.2      2.085109  2.397956  \n",
       "10           3555911               76.1      4.670724  2.355095  \n",
       "7            4199509               77.0      5.456574  2.199182  \n",
       "41            741548               78.4      0.945934  2.114312  "
      ]
     },
     "execution_count": 88,
     "metadata": {},
     "output_type": "execute_result"
    }
   ],
   "source": [
    "#It may be useful to try the sort() method on Dataframes to sort states in ascending and descending order to see the states \n",
    "#with the most and least police killings per million people\n",
    "\n",
    "states = states.sort(columns='rate', ascending=False)\n",
    "states.head(10)"
   ]
  },
  {
   "cell_type": "markdown",
   "metadata": {},
   "source": [
    "We can see from the dataframe above that the states with the highest shootings per one million people are Oklahoma, Arizona, and Nebraska. The other ten are listed above in the NAME column. These also happen to be very rural states."
   ]
  },
  {
   "cell_type": "code",
   "execution_count": 91,
   "metadata": {
    "collapsed": false
   },
   "outputs": [
    {
     "data": {
      "text/plain": [
       "CA    74\n",
       "TX    46\n",
       "FL    29\n",
       "AZ    25\n",
       "OK    22\n",
       "GA    16\n",
       "NY    14\n",
       "CO    12\n",
       "LA    11\n",
       "IL    11\n",
       "WA    11\n",
       "NJ    11\n",
       "MD    10\n",
       "OH    10\n",
       "MO    10\n",
       "NC    10\n",
       "SC     9\n",
       "MI     9\n",
       "VA     9\n",
       "AL     8\n",
       "IN     8\n",
       "OR     8\n",
       "KY     7\n",
       "PA     7\n",
       "NE     6\n",
       "MS     6\n",
       "MN     6\n",
       "TN     6\n",
       "KS     6\n",
       "WI     5\n",
       "UT     5\n",
       "MA     5\n",
       "NM     5\n",
       "ID     4\n",
       "HI     4\n",
       "AR     4\n",
       "NV     3\n",
       "MT     2\n",
       "DE     2\n",
       "WV     2\n",
       "AK     2\n",
       "IA     2\n",
       "ME     1\n",
       "CT     1\n",
       "WY     1\n",
       "NH     1\n",
       "DC     1\n",
       "Name: state, dtype: int64"
      ]
     },
     "execution_count": 91,
     "metadata": {},
     "output_type": "execute_result"
    }
   ],
   "source": [
    "police_killings['state'].value_counts()"
   ]
  },
  {
   "cell_type": "code",
   "execution_count": 93,
   "metadata": {
    "collapsed": false
   },
   "outputs": [
    {
     "name": "stderr",
     "output_type": "stream",
     "text": [
      "C:\\Users\\Gerrit\\Desktop\\Anaconda\\envs\\py35\\lib\\site-packages\\ipykernel\\__main__.py:5: SettingWithCopyWarning: \n",
      "A value is trying to be set on a copy of a slice from a DataFrame.\n",
      "Try using .loc[row_indexer,col_indexer] = value instead\n",
      "\n",
      "See the caveats in the documentation: http://pandas.pydata.org/pandas-docs/stable/indexing.html#indexing-view-versus-copy\n",
      "C:\\Users\\Gerrit\\Desktop\\Anaconda\\envs\\py35\\lib\\site-packages\\ipykernel\\__main__.py:6: SettingWithCopyWarning: \n",
      "A value is trying to be set on a copy of a slice from a DataFrame.\n",
      "Try using .loc[row_indexer,col_indexer] = value instead\n",
      "\n",
      "See the caveats in the documentation: http://pandas.pydata.org/pandas-docs/stable/indexing.html#indexing-view-versus-copy\n",
      "C:\\Users\\Gerrit\\Desktop\\Anaconda\\envs\\py35\\lib\\site-packages\\ipykernel\\__main__.py:7: SettingWithCopyWarning: \n",
      "A value is trying to be set on a copy of a slice from a DataFrame.\n",
      "Try using .loc[row_indexer,col_indexer] = value instead\n",
      "\n",
      "See the caveats in the documentation: http://pandas.pydata.org/pandas-docs/stable/indexing.html#indexing-view-versus-copy\n"
     ]
    }
   ],
   "source": [
    "#Create a new Dataframe called pk where all rows with - values for share_white, share_black, or share_hispanic are removed\n",
    "pk = police_killings[(police_killings['share_white'] != '-') & (police_killings['share_black'] != '-') & \n",
    "                     (police_killings['share_hispanic'] != '-')]\n",
    "\n",
    "pk['share_white'] = pk['share_white'].astype(float)\n",
    "pk['share_black'] = pk['share_black'].astype(float)\n",
    "pk['share_hispanic'] = pk['share_hispanic'].astype(float)"
   ]
  },
  {
   "cell_type": "code",
   "execution_count": 100,
   "metadata": {
    "collapsed": false
   },
   "outputs": [],
   "source": [
    "top_10_rates = ['OK','AZ', 'NE', 'HI', 'AK', 'ID', 'NM', 'LA', 'CO', 'DE']\n",
    "bottom_10_rates = ['WI', 'OH', 'IL', 'ME', 'NH', 'MA', 'NY', 'IA', 'PA', 'CT']\n",
    "\n",
    "high_states = pk[pk['state'].isin(top_10_rates)]\n",
    "low_states = pk[pk['state'].isin(bottom_10_rates)]"
   ]
  },
  {
   "cell_type": "code",
   "execution_count": 103,
   "metadata": {
    "collapsed": false
   },
   "outputs": [
    {
     "name": "stdout",
     "output_type": "stream",
     "text": [
      "Shape of high states df (92, 34)\n",
      "Shape of low states df (56, 34)\n"
     ]
    }
   ],
   "source": [
    "#Comparing the shapes of each of the filtered df's above\n",
    "print('Shape of high states df', high_states.shape)\n",
    "print('Shape of low states df', low_states.shape)"
   ]
  },
  {
   "cell_type": "code",
   "execution_count": 105,
   "metadata": {
    "collapsed": false
   },
   "outputs": [
    {
     "data": {
      "text/plain": [
       "pop                4315.750000\n",
       "county_income     48706.967391\n",
       "share_white          55.652174\n",
       "share_black          11.532609\n",
       "share_hispanic       20.693478\n",
       "dtype: float64"
      ]
     },
     "execution_count": 105,
     "metadata": {},
     "output_type": "execute_result"
    }
   ],
   "source": [
    "columns = ['pop','county_income', 'share_white', 'share_black', 'share_hispanic']\n",
    "\n",
    "#Compare the mean value of each column mentioned above across both Dataframes (low_states and high_states)\n",
    "high_states[columns].mean()"
   ]
  },
  {
   "cell_type": "code",
   "execution_count": 106,
   "metadata": {
    "collapsed": false
   },
   "outputs": [
    {
     "data": {
      "text/plain": [
       "pop                4201.660714\n",
       "county_income     54830.839286\n",
       "share_white          60.616071\n",
       "share_black          21.257143\n",
       "share_hispanic       12.948214\n",
       "dtype: float64"
      ]
     },
     "execution_count": 106,
     "metadata": {},
     "output_type": "execute_result"
    }
   ],
   "source": [
    "low_states[columns].mean()"
   ]
  },
  {
   "cell_type": "markdown",
   "metadata": {},
   "source": [
    "# State by State rates"
   ]
  },
  {
   "cell_type": "markdown",
   "metadata": {},
   "source": [
    "We can see from the two analyses done above that the states with the highest police killings rate has lower average county income than the states with the lowest rate of police killings.\n",
    "Also, states with the lowest rate of police killings has a higher share of white and black people and a lower share of hispanics.\n",
    "We can also see that the average populations are pretty much the same for both the top 10 and bottom 10 states."
   ]
  },
  {
   "cell_type": "markdown",
   "metadata": {},
   "source": [
    "We removed all rows with a - in them for the share columns. What was removed? Did this bias the results?\n",
    "    \n",
    "    Yes, this definitely biased the results as we removed data that was not present for some features, but was there for others. Therefore, we were working with a smaller dataset and so our results are less accurate.\n",
    "    \n",
    "We're actually looking at columns that contain county-level data for where the shooting occurred. So we're not actually doing a state by state comparison of the columns. This may bias the data, and change what we found. Would the analysis be stronger if we got state-level data for instead of averaging the county-level data in the columns? Why or why not?\n",
    "\n",
    "    Keeping the analysis at county level may actually be more informative seeing as how average county income varies widely within each state."
   ]
  },
  {
   "cell_type": "markdown",
   "metadata": {},
   "source": [
    "# Potential Next Steps"
   ]
  },
  {
   "cell_type": "code",
   "execution_count": null,
   "metadata": {
    "collapsed": true
   },
   "outputs": [],
   "source": [
    "Explore some of the columns we didn't look at.\n",
    "\n",
    "Integrate more outside data sources. Here are some ideas:\n",
    "Data.gov - http://www.data.gov/\n",
    "Socrata - https://opendata.socrata.com/\n",
    "Github - https://github.com/caesar0301/awesome-public-datasets\n",
    "Census Data - https://www.census.gov\n",
    "    \n",
    "Map out state-level data in a choropleth map with matplotlib\n",
    "\n",
    "Look more into the cause column, and see if there are any patterns.\n",
    "Is there any other data on police brutality that could augment this analysis?\n",
    "\n",
    "Look more broadly at crime rates where the shootings occured, and see if there are any correlations."
   ]
  }
 ],
 "metadata": {
  "kernelspec": {
   "display_name": "Python 3",
   "language": "python",
   "name": "python3"
  },
  "language_info": {
   "codemirror_mode": {
    "name": "ipython",
    "version": 3
   },
   "file_extension": ".py",
   "mimetype": "text/x-python",
   "name": "python",
   "nbconvert_exporter": "python",
   "pygments_lexer": "ipython3",
   "version": "3.5.1"
  }
 },
 "nbformat": 4,
 "nbformat_minor": 0
}
